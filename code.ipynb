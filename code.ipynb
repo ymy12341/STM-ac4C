{
 "cells": [
  {
   "cell_type": "code",
   "execution_count": 1,
   "metadata": {},
   "outputs": [],
   "source": [
    "from models.SK_TCN_MHSA import classifier\n",
    "from utils.one_trial import LitModel\n",
    "from utils.prepare_data import get_ac4C\n",
    "trainset, testset = get_ac4C()"
   ]
  },
  {
   "cell_type": "code",
   "execution_count": 2,
   "metadata": {},
   "outputs": [],
   "source": [
    "hparams = classifier.get_hparams()\n",
    "model_params = classifier.get_model_params()\n",
    "model = LitModel(classifier, hparams , model_params)"
   ]
  },
  {
   "cell_type": "code",
   "execution_count": 3,
   "metadata": {},
   "outputs": [
    {
     "name": "stderr",
     "output_type": "stream",
     "text": [
      "Global seed set to 1024\n",
      "GPU available: True (cuda), used: True\n",
      "TPU available: False, using: 0 TPU cores\n",
      "IPU available: False, using: 0 IPUs\n",
      "HPU available: False, using: 0 HPUs\n",
      "You are using a CUDA device ('NVIDIA GeForce RTX 4060 Laptop GPU') that has Tensor Cores. To properly utilize them, you should set `torch.set_float32_matmul_precision('medium' | 'high')` which will trade-off precision for performance. For more details, read https://pytorch.org/docs/stable/generated/torch.set_float32_matmul_precision.html#torch.set_float32_matmul_precision\n",
      "Missing logger folder: .\\tensorboard\\STM-ac4C\n",
      "Restoring states from the checkpoint path at save_ckpt/mcc0.6958.ckpt\n",
      "LOCAL_RANK: 0 - CUDA_VISIBLE_DEVICES: [0]\n",
      "Loaded model weights from the checkpoint at save_ckpt/mcc0.6958.ckpt\n"
     ]
    },
    {
     "data": {
      "text/plain": [
       "{'Sn': 0.8586956262588501,\n",
       " 'Sp': 0.8369565010070801,\n",
       " 'Acc': 0.8478260636329651,\n",
       " 'AUC': 0.9079270362854004,\n",
       " 'MCC': 0.6958165764808655,\n",
       " 'F1': 0.8494623899459839,\n",
       " 'Recall': 0.8586956262588501,\n",
       " 'Precision': 0.8404255509376526}"
      ]
     },
     "execution_count": 3,
     "metadata": {},
     "output_type": "execute_result"
    }
   ],
   "source": [
    "model.test(testset, ckpt_path=\"save_ckpt/mcc0.6958.ckpt\")"
   ]
  }
 ],
 "metadata": {
  "kernelspec": {
   "display_name": "Python 3",
   "language": "python",
   "name": "python3"
  },
  "language_info": {
   "codemirror_mode": {
    "name": "ipython",
    "version": 3
   },
   "file_extension": ".py",
   "mimetype": "text/x-python",
   "name": "python",
   "nbconvert_exporter": "python",
   "pygments_lexer": "ipython3",
   "version": "3.9.18"
  }
 },
 "nbformat": 4,
 "nbformat_minor": 2
}
